{
 "cells": [
  {
   "cell_type": "markdown",
   "id": "e4f4dada-51a8-4f06-9618-0f2deda72bee",
   "metadata": {
    "tags": []
   },
   "source": [
    "# モデル サービング \n",
    "\n",
    "ノートブック '04-04-accident-recognition' では、再トレーニングされたモデルを使用して、画像内の '重度' または '中程度' の自動車事故を予想できました。\n",
    "\n",
    "次に、作成したモデル サーバーから直接モデルにクエリできるかどうかを判断します。 これは API 呼び出しを通じて行われます。\n",
    "\n",
    "**Important**: まず、モデル サーバーのデプロイ後に取得した推論エンドポイント URL を入力します。"
   ]
  },
  {
   "cell_type": "code",
   "execution_count": null,
   "id": "e38338ba-d858-4096-92a1-284d35679005",
   "metadata": {
    "tags": []
   },
   "outputs": [],
   "source": [
    "# 通常、次のようにする必要があります。\n",
    "# RestURL = 'http://modelmesh-serving.userX:8008' , userX は、割り当てられているユーザーに置き換えられます。\n",
    "# 以下の値を変更しないと何も機能しません。\n",
    "RestURL = 'http://modelmesh-serving.userX:8008'"
   ]
  },
  {
   "cell_type": "code",
   "execution_count": null,
   "id": "03c4c9cc-1e3a-43a4-92cf-44af26573030",
   "metadata": {
    "tags": []
   },
   "outputs": [],
   "source": [
    "# このラボ用に設計されたワークベンチ イメージを使用しなかった場合は、コメントを解除して次の行を実行して、必要なパッケージをインストールできます。\n",
    "#!pip install --no-cache-dir --no-dependencies -r requirements.txt"
   ]
  },
  {
   "cell_type": "code",
   "execution_count": null,
   "id": "930247ab-2e10-4db4-888c-517ca3a4cec8",
   "metadata": {
    "tags": []
   },
   "outputs": [],
   "source": [
    "import cv2\n",
    "from matplotlib import pyplot as plt\n",
    "from PIL import Image\n",
    "## ノートブックを読みやすくするために、多くのコードがファイル remote_infer.py に移動されていることに注意してください。\n",
    "## 興味があれば、それを開いて、この予測に必要なさまざまな関数を確認してください。\n",
    "from remote_infer import process_image"
   ]
  },
  {
   "cell_type": "markdown",
   "id": "c5e84546-979c-4dc2-9fc7-21d997001beb",
   "metadata": {},
   "source": [
    "## 推論用 URL、モデル名、YAML ファイルをクラスで定義します。"
   ]
  },
  {
   "cell_type": "code",
   "execution_count": null,
   "id": "329ac64a-76a4-4630-8da3-0174fbdf54cd",
   "metadata": {
    "tags": []
   },
   "outputs": [],
   "source": [
    "infer_url = f'{RestURL}/v2/models/my-first-model/infer'"
   ]
  },
  {
   "cell_type": "markdown",
   "id": "e74d67e4-1933-4957-80fd-c4b143d14279",
   "metadata": {
    "tags": []
   },
   "source": [
    "## 次に、推論用のパラメータを設定します。"
   ]
  },
  {
   "cell_type": "code",
   "execution_count": null,
   "id": "31725659-710d-4fdc-b195-4d56b299f419",
   "metadata": {
    "tags": []
   },
   "outputs": [],
   "source": [
    "# 1. 解析したい画像\n",
    "image_path = 'images/carImage3.jpg' # これをアップロードした画像に置き換えることができます"
   ]
  },
  {
   "cell_type": "markdown",
   "id": "326d21db-0f7b-4f89-86bd-84f4c04b7c44",
   "metadata": {},
   "source": [
    "## 推論を開始して結果を表示する"
   ]
  },
  {
   "cell_type": "code",
   "execution_count": null,
   "id": "c15e0ccd-5c65-4dc7-80bc-2e583223ac59",
   "metadata": {
    "tags": []
   },
   "outputs": [],
   "source": [
    "# リモートモデルサーバーを呼び出して推論を開始します。\n",
    "img = process_image(image_path, infer_url)\n",
    "\n",
    "# 結果を表示します。\n",
    "img = cv2.cvtColor(img, cv2.COLOR_BGR2RGB)\n",
    "fig = plt.gcf()\n",
    "fig.set_size_inches(6, 3)\n",
    "plt.axis('off')\n",
    "plt.imshow(img)"
   ]
  }
 ],
 "metadata": {
  "kernelspec": {
   "display_name": "Python 3.11",
   "language": "python",
   "name": "python3"
  },
  "language_info": {
   "codemirror_mode": {
    "name": "ipython",
    "version": 3
   },
   "file_extension": ".py",
   "mimetype": "text/x-python",
   "name": "python",
   "nbconvert_exporter": "python",
   "pygments_lexer": "ipython3",
   "version": "3.11.5"
  }
 },
 "nbformat": 4,
 "nbformat_minor": 5
}
