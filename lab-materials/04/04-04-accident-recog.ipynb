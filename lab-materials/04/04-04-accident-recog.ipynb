{
 "cells": [
  {
   "cell_type": "markdown",
   "id": "70bedcd9-6e54-4fe7-951f-807c6ab2f0e9",
   "metadata": {},
   "source": [
    "# 再トレーニングされた YOLO モデルをテストする\n",
    "\n",
    "モデルを再トレーニングしたので、それを 'test' 画像に対して使用できるようになりました。"
   ]
  },
  {
   "cell_type": "code",
   "execution_count": null,
   "id": "cb59c2a5-7de8-48b2-8f32-a83b4b42a7ab",
   "metadata": {},
   "outputs": [],
   "source": [
    "# このラボ用に設計されたワークベンチ イメージを使用しなかった場合は、コメントを解除して次の行を実行して、必要なパッケージをインストールできます。\n",
    "# !pip install --no-cache-dir --no-dependencies -r requirements.txt\n",
    "\n",
    "from ultralytics import YOLO\n",
    "from PIL import Image\n",
    "import numpy as np\n",
    "import cv2\n",
    "from matplotlib import pyplot as plt\n",
    "\n",
    "import remote_infer"
   ]
  },
  {
   "cell_type": "markdown",
   "id": "5c5cc11d-54eb-4f95-a92a-4b9f6cf1fac6",
   "metadata": {},
   "source": [
    "前のノートブックでは、モデルを再トレーニングする方法について説明しました。これは GPU の効率性を必要とする時間のかかるタスクであるため、ワークショップ中に実際に実行することはできません。\n",
    "\n",
    "そのため、便宜上、ONNX 形式でエクスポートされた、再トレーニング済みのモデルを利用します。"
   ]
  },
  {
   "cell_type": "code",
   "execution_count": null,
   "id": "1a927c99-c8d0-44d2-94ce-be033b8ca0de",
   "metadata": {},
   "outputs": [],
   "source": [
    "# 新しくトレーニングされたモデルを取得します。\n",
    "\n",
    "model = YOLO(\"https://rhods-public.s3.amazonaws.com/demo-models/ic-models/accident/accident_detect.onnx\", task=\"detect\")"
   ]
  },
  {
   "cell_type": "code",
   "execution_count": null,
   "id": "bdab1fa5-1d47-4060-b32a-e53f52a7a993",
   "metadata": {},
   "outputs": [],
   "source": [
    "# 自動車事故の画像に対してモデルをテストします。\n",
    "image_path = \"images/carImage3.jpg\" # We know that Image3 represents a severe accident with over 86% certainty.\n",
    "\n",
    "_, scale, original_image = remote_infer.preprocess(image_path)\n",
    "\n",
    "original_image: np.ndarray = cv2.imread(image_path)\n",
    "blob = cv2.dnn.blobFromImage(original_image, size=(640, 640), swapRB=False)\n",
    "blob = np.ascontiguousarray(blob[0].transpose((1,2,0)))\n",
    "results = model.predict(blob)"
   ]
  },
  {
   "cell_type": "code",
   "execution_count": null,
   "id": "04757541-e559-4a12-9f99-98ca183452d7",
   "metadata": {
    "tags": []
   },
   "outputs": [],
   "source": [
    "# 結果からすべての情報を抽出します。（タイプ、境界ボックス、確率）\n",
    "\n",
    "detections = []\n",
    "result = results[0]\n",
    "for box in result.boxes:\n",
    "    class_id = int(box.cls.item())\n",
    "    score = box.conf.item()\n",
    "    unscaled_cords = box.xyxy.squeeze().tolist()\n",
    "    cords = [round(unscaled_cords[0] * scale[1]), round(unscaled_cords[1] * scale[0]), round(unscaled_cords[2] * scale[1]), round(unscaled_cords[3] * scale[0])]\n",
    "    detection = {\n",
    "        'class_id': class_id,\n",
    "        'class_name': result.names[class_id],\n",
    "        'confidence': score,\n",
    "        'box': cords,\n",
    "        'scale': scale}\n",
    "    detections.append(detection)\n",
    "    print(detection)\n",
    "    remote_infer.draw_bounding_box(original_image, class_id, score, cords[0], cords[1], cords[2], cords[3])"
   ]
  },
  {
   "cell_type": "code",
   "execution_count": null,
   "id": "cefc9691-0cd5-446f-b4b6-fc02112ef2fa",
   "metadata": {
    "tags": []
   },
   "outputs": [],
   "source": [
    "# 画像上に、ボックス、クラス名、確率（モデルが検出についてどの程度確信しているか） を描画します。\n",
    "\n",
    "img = cv2.cvtColor(original_image, cv2.COLOR_BGR2RGB)\n",
    "fig = plt.gcf()\n",
    "fig.set_size_inches(6, 3)\n",
    "plt.axis('off')\n",
    "plt.imshow(img)"
   ]
  },
  {
   "cell_type": "markdown",
   "id": "1784c664-01ea-4787-acd7-631854caa9fd",
   "metadata": {},
   "source": [
    " 'carImage3.jpg' を調べると、再トレーニングされた YOLO モデルは 86% の信頼度で '自動車事故' を正確に予測します。次に、自動車事故の周囲にボックスが描かれ、 `severe 0.86` というラベルが付けられます。\n",
    "\n",
    "事故の重大度を検出できるモデルができたので、予測関数を作成し、ModelMesh を使用してモデルを提供しましょう。\n",
    "\n",
    "**その方法については、ラボガイドに戻ってください。**\n",
    "\n",
    "**ノートブック `04-05-model-serving.ipynb` はまだ開かないでください。**"
   ]
  }
 ],
 "metadata": {
  "kernelspec": {
   "display_name": "Python 3.11",
   "language": "python",
   "name": "python3"
  },
  "language_info": {
   "codemirror_mode": {
    "name": "ipython",
    "version": 3
   },
   "file_extension": ".py",
   "mimetype": "text/x-python",
   "name": "python",
   "nbconvert_exporter": "python",
   "pygments_lexer": "ipython3",
   "version": "3.11.5"
  }
 },
 "nbformat": 4,
 "nbformat_minor": 5
}
