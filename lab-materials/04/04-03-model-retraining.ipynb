{
 "cells": [
  {
   "cell_type": "markdown",
   "id": "f8cbdac0-3371-48af-aaa9-c40bbbcb62ff",
   "metadata": {},
   "source": [
    "# YOLO モデルを再トレーニングする\n",
    "\n",
    "YOLO モデルを再トレーニングするには、中程度の事故と重大な事故のラベルが付いた自動車画像の準備されたデータセットが必要です。  このようなデータセット（RoboFlow から取得） には、トレーニング データセットと検証データセットに分割された注釈付き画像がすでに含まれています。  これらのトレーニング/検証セットを使用して、現在の YOLO モデルを再トレーニングします。トレーニングに必要なデータ構造に関するいくつかの情報を以下に示します。\n",
    "\n",
    "1. モデルに検出を教えたいオブジェクトのエンコード クラスは、0-`moderate` と 1-`severe` です。\n",
    "2. データセットはフォルダー内にあり、その中に 2 つのサブフォルダー（`train` と `valid`） があります。各サブフォルダー内には、 `images` と `labels` の 2 つのサブフォルダーがあります。\n",
    "3. 各画像には、 `labels` サブフォルダー内に対応する注釈テキスト ファイルがあります。注釈テキスト ファイルには、画像ファイルと同じ名前が付けられます。\n",
    "4. データセット記述子 YAML ファイル（data.yaml） はデータセットを指し、データセット内のオブジェクト クラスを記述します。この YAML ファイルはモデルの `train` メソッドに渡されて、トレーニング プロセスを開始します。\n",
    "\n",
    "さぁ、始めましょう!"
   ]
  },
  {
   "cell_type": "code",
   "execution_count": null,
   "id": "602e0c59-42b1-4de4-9de2-d0875cf597c8",
   "metadata": {
    "tags": []
   },
   "outputs": [],
   "source": [
    "# このラボ用に設計されたワークベンチ イメージを使用しなかった場合は、コメントを解除して次の行を実行して、必要なパッケージをインストールできます。\n",
    "# !pip install --no-cache-dir --no-dependencies -r requirements.txt\n",
    "\n",
    "import os\n",
    "import requests\n",
    "import zipfile\n",
    "from tqdm.notebook import tqdm\n",
    "from ultralytics import YOLO"
   ]
  },
  {
   "cell_type": "markdown",
   "id": "cc755b4b-db03-4b43-9da9-80ed8298417b",
   "metadata": {},
   "source": [
    "次に、YOLO モデル 'yolo8m.pt' をロードします。"
   ]
  },
  {
   "cell_type": "code",
   "execution_count": null,
   "id": "6e595eb2-0e11-4dce-9d5c-2a2025ddcd6d",
   "metadata": {
    "tags": []
   },
   "outputs": [],
   "source": [
    "# モデルをロードします。\n",
    "model = YOLO('yolov8m.pt')  # 事前トレーニング済みモデルをロードします （トレーニングに推奨）"
   ]
  },
  {
   "cell_type": "markdown",
   "id": "37d43616-2d25-419b-bd30-47a5aafb0d33",
   "metadata": {
    "tags": []
   },
   "source": [
    "## トレーニングデータを取得する\n",
    "\n",
    "次の 2 つのトレーニング データ セットが zip ファイルとして提供されています。\n",
    "1) `accident-full.zip`   - モデルを完全に再トレーニングする場合に使用します。\n",
    "2) `accident-sample.zip` - モデルを完全に再トレーニングする時間がない場合に、モデルを部分的に再トレーニングするために使用します。\n",
    "\n",
    "このワークショップではサンプル データセットを使用します。"
   ]
  },
  {
   "cell_type": "code",
   "execution_count": null,
   "id": "2657ceae-db2d-4d65-ae1c-e807254ee71b",
   "metadata": {
    "tags": []
   },
   "outputs": [],
   "source": [
    "# データセットを取得します。\n",
    "def retrieve_dataset(dataset_type):\n",
    "\n",
    "    # ディレクトリが存在するかどうかを確認し、存在しない場合は作成します。\n",
    "    if not os.path.exists(\"./datasets/\"):\n",
    "        os.makedirs(\"./datasets/\")\n",
    "\n",
    "    URL = f\"https://rhods-public.s3.amazonaws.com/sample-data/accident-data/accident-{dataset_type}.zip\"\n",
    "\n",
    "    # ファイルが存在するかどうかを確認し、存在しない場合はダウンロードして解凍します。\n",
    "    if not os.path.exists(f\"./datasets/accident-{dataset_type}.zip\"):\n",
    "        print(\"Downloading file...\")\n",
    "        response = requests.get(URL, stream=True)\n",
    "        total_size = int(response.headers.get('content-length', 0))\n",
    "        block_size = 1024\n",
    "        t = tqdm(total=total_size, unit='iB', unit_scale=True)\n",
    "        with open(f'./datasets/accident-{dataset_type}.zip', 'wb') as f:\n",
    "            for data in response.iter_content(block_size):\n",
    "                t.update(len(data))\n",
    "                f.write(data)\n",
    "        t.close()\n",
    "    if os.path.exists(f\"./datasets/accident-{dataset_type}.zip\"):\n",
    "        print(\"Unzipping file...\")\n",
    "        with zipfile.ZipFile(f'./datasets/accident-{dataset_type}.zip', 'r') as zip_ref:\n",
    "            zip_ref.extractall(path='./datasets/')\n",
    "    print(\"Done!\")\n",
    "\n",
    "\n",
    "dataset_type = 'sample'\n",
    "# dataset_type = 'full' # 完全なデータセットを取得する場合は、代わりにこの行を使用してください。\n",
    "retrieve_dataset(dataset_type)"
   ]
  },
  {
   "cell_type": "markdown",
   "id": "93e7d5b4-4c29-4eff-b1ba-a9dddf382173",
   "metadata": {
    "tags": []
   },
   "source": [
    "## YOLO モデルの再トレーニング\n",
    "\n",
    " 'epoch' とは何かを理解することから始めましょう。  機械学習モデルは、アルゴリズムを通過した特定のデータセットを使用してトレーニングされます。完全なデータセットがアルゴリズムを通過するたびに、 'epoch' が完了したと言われます。各  'epoch' では、モデルのトレーニングがさらに洗練されます。\n",
    "\n",
    "以下のトレーニング コードでは、さまざまなパラメーターを設定します。 \n",
    "\n",
    "**results = model.train(data='./datasets/accident-sample/data.yaml', epochs=1, imgsz=640, batch=2)**\n",
    "\n",
    "- epochs: プロセスをデモするだけなので、epoch は 1 を使用します。\n",
    "- imgsz: これはモデルに供給する必要がある画像のサイズです。\n",
    "- batch: これは、アルゴリズムが同時に処理する画像の数です。多ければ多いほど良い結果が得られますが、消費するメモリも多くなります。このワークショップでは限られたリソースを使用しており、これは単なるトレーニング例であるため、意図的に低い値の 2 を使用します。\n",
    "\n",
    "トレーニングの実行では、各 **epoch<** にトレーニング フェーズと検証フェーズの両方の概要が表示されます。行 1 と 2 はトレーニング フェーズの結果を示し、行 3 と 4 は各エポックの検証フェーズの結果を示します。\n",
    "\n",
    "次のセルを実行して、モデルの再トレーニングを開始します。"
   ]
  },
  {
   "cell_type": "code",
   "execution_count": null,
   "id": "22954895-0c26-4ae0-93c1-259efd18e47e",
   "metadata": {
    "tags": []
   },
   "outputs": [],
   "source": [
    "# モデルをトレーニングします。\n",
    "\n",
    "results = model.train(data='./datasets/accident-sample/data.yaml', epochs=1, imgsz=640, batch=2)"
   ]
  },
  {
   "cell_type": "markdown",
   "id": "45050c91-fb6c-4f14-a4d1-e72d3a40538f",
   "metadata": {},
   "source": [
    "**Note**: 標準的な再トレーニングの後、結果に満足できれば、モデルを ONNX 形式にエクスポートできます。 \n",
    "\n",
    "（次のコマンドで trainX を使用するトレーニング セッションに置き換えます）\n",
    "\n",
    "`ObjDetOXModel = YOLO(\"runs/detect/trainX/weights/best.pt\").export(format=\"onnx\")`"
   ]
  },
  {
   "cell_type": "markdown",
   "id": "cd0f7412-0b9b-46d1-b2f6-ded479b20cb7",
   "metadata": {},
   "source": [
    "## トレーニング結果の解釈\n",
    "\n",
    " **full dataset** に対するトレーニングのプロセスと結果の詳細な説明は、ラボガイドで確認できます。\n",
    "\n",
    "完了したら、ノートブックを閉じて次のページに進むことができます。\n",
    "\n",
    "モデルを再トレーニングしたので、自動車事故のある画像に対してテストしてみましょう。"
   ]
  }
 ],
 "metadata": {
  "kernelspec": {
   "display_name": "Python 3.11",
   "language": "python",
   "name": "python3"
  },
  "language_info": {
   "codemirror_mode": {
    "name": "ipython",
    "version": 3
   },
   "file_extension": ".py",
   "mimetype": "text/x-python",
   "name": "python",
   "nbconvert_exporter": "python",
   "pygments_lexer": "ipython3",
   "version": "3.11.5"
  }
 },
 "nbformat": 4,
 "nbformat_minor": 5
}
